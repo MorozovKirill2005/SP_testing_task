{
  "nbformat": 4,
  "nbformat_minor": 0,
  "metadata": {
    "colab": {
      "provenance": []
    },
    "kernelspec": {
      "name": "python3",
      "display_name": "Python 3"
    },
    "language_info": {
      "name": "python"
    }
  },
  "cells": [
    {
      "cell_type": "markdown",
      "source": [
        "**Тестовое задание для поступления на кафедру Системного программирования**"
      ],
      "metadata": {
        "id": "z8jL0DIWZBCG"
      }
    },
    {
      "cell_type": "markdown",
      "source": [
        "Задание состоит из нескольких этапов:\n",
        "1.   Реализация свёрточной нейронной сети на основе библиотеки PyTorch, используя датасет Cifar-10;\n",
        "2.   Реализация оптимизатора Adam на основе статьи \"ADAM: A METHOD FOR STOCHASTIC OPTIMIZATION\";\n",
        "3.   Обучение нейронной сети, используя написанный оптимизатор Adam;\n",
        "4.   Проведение обучения, используя оптимизатор SGD из библиотеки PyTorch;\n",
        "5.   Анализ полученных результатов обучений и представление результатов на графиках, используя библиотеку Matplotlib.\n"
      ],
      "metadata": {
        "id": "VqZwHEKkZrns"
      }
    },
    {
      "cell_type": "markdown",
      "source": [
        "Для начала подключаем необходимые библиотеки и импортируем необходимые функции из них для удобства:"
      ],
      "metadata": {
        "id": "VMj2QYRobS8i"
      }
    },
    {
      "cell_type": "code",
      "source": [
        "from torchvision import datasets, transforms\n",
        "from torch.utils.data import DataLoader\n",
        "import torch\n",
        "from torch import nn\n",
        "from torch.optim import Optimizer\n",
        "import matplotlib.pyplot as plt\n",
        "#from adam import Adam"
      ],
      "metadata": {
        "id": "nTdXaj7PbmIi"
      },
      "execution_count": 12,
      "outputs": []
    },
    {
      "cell_type": "markdown",
      "source": [
        "Теперь реализуем 2 важнейшие функции: обучение и тестирование модели. Здесь использовался стандартный алгоритм обучения: обнуление градиентов, подсчёт результата работы нейронной сети на входных данных, подсчёт функции потерь и проведение шага оптимизатора:"
      ],
      "metadata": {
        "id": "TzLfm2fmcB-W"
      }
    },
    {
      "cell_type": "code",
      "source": [
        "#функция-обучения нейронной сети\n",
        "def train_loop(data, model, func_loss, optimizer):\n",
        "    size = len(data.dataset)\n",
        "\n",
        "    model.train()\n",
        "    running_loss = 0.0\n",
        "    for batch, (inputs, labels) in enumerate(data, 0):\n",
        "        optimizer.zero_grad()\n",
        "        outputs = model(inputs)\n",
        "        loss = func_loss(outputs, labels)\n",
        "        loss.backward()\n",
        "        optimizer.step()\n",
        "\n",
        "        running_loss += loss.item()\n",
        "\n",
        "        if (batch + 1) % 2500 == 0:\n",
        "            print(f\"loss: {running_loss / 2000:>7f}  [{(batch + 1) * batch_size:>5d}/{size:>5d}]\")\n",
        "            running_loss = 0.0\n"
      ],
      "metadata": {
        "id": "vL-12wgibxF8"
      },
      "execution_count": 2,
      "outputs": []
    },
    {
      "cell_type": "markdown",
      "source": [
        "Теперь реализуем функцию проверки точности нейронной сети на тестовых данных:"
      ],
      "metadata": {
        "id": "Hd-dVknicbnu"
      }
    },
    {
      "cell_type": "code",
      "execution_count": 19,
      "metadata": {
        "id": "hWKPI0H_beS1"
      },
      "outputs": [],
      "source": [
        "#функция-тестирование нейронной сети\n",
        "def test_loop(data, model, func_loss):\n",
        "    correct = 0\n",
        "    total = 0\n",
        "    test_loss = 0\n",
        "\n",
        "    model.eval()\n",
        "    with torch.no_grad():\n",
        "        for (inputs, labels) in data:\n",
        "            outputs = model(inputs)\n",
        "            test_loss += func_loss(outputs, labels).item()\n",
        "            _, predicted = torch.max(outputs.data, 1)\n",
        "            total += labels.size(0)\n",
        "            correct += (predicted == labels).sum().item()\n",
        "\n",
        "    print('Accuracy of the network on the 10000 test images: %d %%, loss: %.7f' % (100 * correct / total, test_loss / (total / batch_size)))\n",
        "    return (100 * correct / total), (test_loss / (total / batch_size))"
      ]
    },
    {
      "cell_type": "markdown",
      "source": [
        "Укажем наши гиперпараметры, которые удобно менять для увеличения точности нейронной сети:"
      ],
      "metadata": {
        "id": "FCScZk0Jcmky"
      }
    },
    {
      "cell_type": "code",
      "source": [
        "#выбор гиперпараметров\n",
        "batch_size = 4\n",
        "learn_rate = 1e-3\n",
        "epoch = 2\n",
        "momentum = 0.9"
      ],
      "metadata": {
        "id": "oQknmw4kb3rd"
      },
      "execution_count": 4,
      "outputs": []
    },
    {
      "cell_type": "markdown",
      "source": [
        "Теперь проведем загрузку датасета с помощью функций библиотеки torchvision. После разобъём наши датасеты по партиям:"
      ],
      "metadata": {
        "id": "chRn7uTwcyVy"
      }
    },
    {
      "cell_type": "code",
      "source": [
        "#Преобразование данных: перевод в тензор из PyTorch и нормализация\n",
        "transform = transforms.Compose([transforms.ToTensor(), transforms.Normalize((0.5, 0.5, 0.5), (0.5, 0.5, 0.5))])\n",
        "#загрузка датасета\n",
        "data_train = datasets.CIFAR10(root = \"./data\", train = True, download = True, transform = transform)\n",
        "data_test = datasets.CIFAR10(root = \"./data\", train = False, download = False, transform = transform)\n",
        "#разбитие данных на партии\n",
        "dataload_train = DataLoader(data_train, batch_size = batch_size, shuffle = True)\n",
        "dataload_test = DataLoader(data_test, batch_size = batch_size, shuffle = True)"
      ],
      "metadata": {
        "colab": {
          "base_uri": "https://localhost:8080/"
        },
        "id": "N9XLAbz-b6kY",
        "outputId": "a18b2929-d034-440f-c582-3de125e4ffde"
      },
      "execution_count": 5,
      "outputs": [
        {
          "output_type": "stream",
          "name": "stdout",
          "text": [
            "Downloading https://www.cs.toronto.edu/~kriz/cifar-10-python.tar.gz to ./data/cifar-10-python.tar.gz\n"
          ]
        },
        {
          "output_type": "stream",
          "name": "stderr",
          "text": [
            "100%|██████████| 170M/170M [00:04<00:00, 41.5MB/s]\n"
          ]
        },
        {
          "output_type": "stream",
          "name": "stdout",
          "text": [
            "Extracting ./data/cifar-10-python.tar.gz to ./data\n"
          ]
        }
      ]
    },
    {
      "cell_type": "markdown",
      "source": [
        "Настало время написать класс устройства нашей нейронной сети. Здесь мы инициализируем нейронную сеть, состоящую из 5 важных слоёв: 2 свёрточных и 3 линейных слоя:"
      ],
      "metadata": {
        "id": "zL56v-qAdC7-"
      }
    },
    {
      "cell_type": "code",
      "source": [
        "#представление модели нейронной сети\n",
        "class NeuralNetworks(nn.Module):\n",
        "    def __init__(self):\n",
        "        super().__init__()\n",
        "        self.network = nn.Sequential(\n",
        "            nn.Conv2d(3, 6, 5),\n",
        "            nn.ReLU(),\n",
        "            nn.MaxPool2d(2, 2),\n",
        "            nn.Conv2d(6, 16, 5),\n",
        "            nn.ReLU(),\n",
        "            nn.MaxPool2d(2, 2),\n",
        "            nn.Flatten(),\n",
        "            nn.Linear(16 * 5 * 5, 120,),\n",
        "            nn.ReLU(),\n",
        "            nn.Linear(120, 84),\n",
        "            nn.ReLU(),\n",
        "            nn.Linear(84, 10)\n",
        "        )\n",
        "\n",
        "    def forward(self, input):\n",
        "        output = self.network(input)\n",
        "        return output"
      ],
      "metadata": {
        "id": "wU1Ei8gOb97w"
      },
      "execution_count": 6,
      "outputs": []
    },
    {
      "cell_type": "markdown",
      "source": [
        "Здесь приведена реализация алгоритма из статьи \"ADAM: A METHOD FOR STOCHASTIC OPTIMIZATION\". Для удобства, реализация в виде класса, для более удобной инициализации переменных, а также класс наследуется от библиотечного torch.optim.Optimizer, чтобы использовать библиотечную реализацию функции zero_grad():"
      ],
      "metadata": {
        "id": "OAll6qkYdi8W"
      }
    },
    {
      "cell_type": "code",
      "source": [
        "class Adam(Optimizer):\n",
        "    def __init__(self, param, alpha = 1e-3, beta1 = 0.9, beta2 = 0.999, eps = 1e-8):\n",
        "        self.param = list(param)\n",
        "        number_of_param = sum([par.numel() for par in self.param])\n",
        "        self.t = 0\n",
        "        self.m = [0] * number_of_param\n",
        "        self.v = [0] * number_of_param\n",
        "        defaults = dict(lr=alpha, betas=(beta1, beta2), eps=eps)\n",
        "        super().__init__(self.param, defaults)\n",
        "        # self.alpha = alpha\n",
        "        # self.beta1 = beta1\n",
        "        # self.beta2 = beta2\n",
        "        # self.eps = eps\n",
        "\n",
        "    def step(self):\n",
        "        self.t += 1\n",
        "        i = 0\n",
        "        for group in self.param_groups:\n",
        "          alpha, eps = group['lr'], group['eps']\n",
        "          beta1, beta2 = group['betas']\n",
        "          for par in group['params']:\n",
        "            gt = par.grad.data\n",
        "            self.m[i] = beta1 * self.m[i] + (1 - beta1) * gt\n",
        "            self.v[i] = beta2 * self.v[i] + (1 - beta2) * (gt ** 2)\n",
        "            mt = self.m[i] / (1 - beta1 ** self.t)\n",
        "            vt = self.v[i] / (1 - beta2 ** self.t)\n",
        "            par.data = par.data - alpha * mt / (vt ** 0.5 + eps)\n",
        "            i += 1"
      ],
      "metadata": {
        "id": "mWFNtjoocFAT"
      },
      "execution_count": 7,
      "outputs": []
    },
    {
      "cell_type": "markdown",
      "source": [
        "Теперь мы готовы объявить нашу нейронную сеть, а также функции потерь CrossEntropyLoss и наш оптимизатор (здесь закомментирована инициализация оптимизатора SGD):"
      ],
      "metadata": {
        "id": "G9Ktwxfagzjx"
      }
    },
    {
      "cell_type": "code",
      "source": [
        "#инициализация модели свёрточной нейронной сети, выбор функции потерь и оптимизитора\n",
        "model = NeuralNetworks()\n",
        "loss_func = nn.CrossEntropyLoss()\n",
        "#optimizer = optim.SGD(model.parameters(), lr = learn_rate, momentum = momentum)\n",
        "optimizer = Adam(model.parameters(), alpha = learn_rate)"
      ],
      "metadata": {
        "id": "x2GTjku0cKIh"
      },
      "execution_count": 8,
      "outputs": []
    },
    {
      "cell_type": "markdown",
      "source": [
        "Также создадим массивы для хранения данных тестирования для дальнейшей визуализации:"
      ],
      "metadata": {
        "id": "y9tVIYlSAaQR"
      }
    },
    {
      "cell_type": "code",
      "source": [
        "x = range(1, epoch + 1)\n",
        "loss_mas = [0] * epoch\n",
        "accuracy_mas = [0] * epoch"
      ],
      "metadata": {
        "id": "iZMqlXhHAjJV"
      },
      "execution_count": 18,
      "outputs": []
    },
    {
      "cell_type": "markdown",
      "source": [
        "Далее запускаем цикл обучения, которая вызывает соответственно функции обучения модели и проверки результатов работы на тестовом датасете:"
      ],
      "metadata": {
        "id": "oHr6f9vEhF9n"
      }
    },
    {
      "cell_type": "code",
      "source": [
        "#цикл обучения и проверки результатов обучения нейронной сети\n",
        "for ep in range(epoch):\n",
        "    print(f\"Epoch {ep + 1}\\n-------------------------------\")\n",
        "    train_loop(dataload_train, model, loss_func, optimizer)\n",
        "    accuracy_mas[ep], loss_mas[ep] = test_loop(dataload_test, model, loss_func)"
      ],
      "metadata": {
        "colab": {
          "base_uri": "https://localhost:8080/"
        },
        "id": "PAcWeaTNcNT5",
        "outputId": "6920fe64-86c9-46c2-a551-e0d7b64bc63d"
      },
      "execution_count": 20,
      "outputs": [
        {
          "output_type": "stream",
          "name": "stdout",
          "text": [
            "Epoch 1\n",
            "-------------------------------\n",
            "loss: 1.253221  [10000/50000]\n",
            "loss: 1.293477  [20000/50000]\n",
            "loss: 1.313807  [30000/50000]\n",
            "loss: 1.321105  [40000/50000]\n",
            "loss: 1.314826  [50000/50000]\n",
            "Accuracy of the network on the 10000 test images: 59 %, loss: 1.1943359\n",
            "Epoch 2\n",
            "-------------------------------\n",
            "loss: 1.233480  [10000/50000]\n",
            "loss: 1.257587  [20000/50000]\n",
            "loss: 1.258815  [30000/50000]\n",
            "loss: 1.266907  [40000/50000]\n",
            "loss: 1.285371  [50000/50000]\n",
            "Accuracy of the network on the 10000 test images: 60 %, loss: 1.1251145\n"
          ]
        }
      ]
    },
    {
      "cell_type": "markdown",
      "source": [
        "Теперь мы можем визуализировать на графиках работу модели:"
      ],
      "metadata": {
        "id": "RQpVc-3rBIz8"
      }
    },
    {
      "cell_type": "code",
      "source": [
        "plt.title('Analysis of the neural network operation depending on the selected optimizer')\n",
        "plt.axis('off')\n",
        "plt.tight_layout()\n",
        "plt.subplot(1, 2, 1)\n",
        "plt.plot(x, loss_mas, label = \"Adam\")\n",
        "plt.xlabel('epoch')\n",
        "plt.ylabel('loss')\n",
        "plt.xticks(range(0, 11))\n",
        "plt.legend()\n",
        "plt.subplot(1, 2, 2)\n",
        "plt.plot(x, accuracy_mas, label = \"Adam\")\n",
        "plt.xlabel('epoch')\n",
        "plt.ylabel('accuracy')\n",
        "plt.xticks(range(0, 11))\n",
        "plt.legend()\n",
        "plt.show()"
      ],
      "metadata": {
        "colab": {
          "base_uri": "https://localhost:8080/",
          "height": 530
        },
        "id": "vtcPjC-dBRAE",
        "outputId": "3611cbdc-d24b-4583-f5c5-cc4d66222a31"
      },
      "execution_count": 31,
      "outputs": [
        {
          "output_type": "display_data",
          "data": {
            "text/plain": [
              "<Figure size 640x480 with 3 Axes>"
            ],
            "image/png": "[encoded data removed]"
          },
          "metadata": {}
        }
      ]
    },
    {
      "cell_type": "markdown",
      "source": [
        "После обучения модели, можем сохранить её для дальнейшей работы с ней:"
      ],
      "metadata": {
        "id": "urypI-58hVjZ"
      }
    },
    {
      "cell_type": "code",
      "source": [
        "#сохранение модели\n",
        "torch.save(model, 'model.pth')"
      ],
      "metadata": {
        "id": "biFG5dn8cREf"
      },
      "execution_count": 32,
      "outputs": []
    }
  ]
}