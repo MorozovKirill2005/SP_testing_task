{
  "nbformat": 4,
  "nbformat_minor": 0,
  "metadata": {
    "colab": {
      "provenance": []
    },
    "kernelspec": {
      "name": "python3",
      "display_name": "Python 3"
    },
    "language_info": {
      "name": "python"
    }
  },
  "cells": [
    {
      "cell_type": "markdown",
      "source": [
        "**Тестовое задание для поступления на кафедру Системного программирования**"
      ],
      "metadata": {
        "id": "z8jL0DIWZBCG"
      }
    },
    {
      "cell_type": "markdown",
      "source": [
        "Задание состоит из нескольких этапов:\n",
        "1.   Реализация свёрточной нейронной сети на основе библиотеки PyTorch, используя датасет Cifar-10;\n",
        "2.   Реализация оптимизатора Adam на основе статьи \"ADAM: A METHOD FOR STOCHASTIC OPTIMIZATION\";\n",
        "3.   Обучение нейронной сети, используя написанный оптимизатор Adam;\n",
        "4.   Проведение обучения, используя оптимизатор SGD из библиотеки PyTorch;\n",
        "5.   Анализ полученных результатов обучений и представление результатов на графиках, используя библиотеку Matplotlib.\n"
      ],
      "metadata": {
        "id": "VqZwHEKkZrns"
      }
    },
    {
      "cell_type": "markdown",
      "source": [
        "Для начала подключаем необходимые библиотеки и импортируем необходимые функции из них для удобства:"
      ],
      "metadata": {
        "id": "VMj2QYRobS8i"
      }
    },
    {
      "cell_type": "code",
      "source": [
        "from torchvision import datasets, transforms\n",
        "from torch.utils.data import DataLoader\n",
        "import torch\n",
        "from torch import nn\n",
        "from torch import optim\n",
        "import matplotlib.pyplot as plt\n",
        "import sys\n",
        "#from adam import Adam"
      ],
      "metadata": {
        "id": "nTdXaj7PbmIi"
      },
      "execution_count": 99,
      "outputs": []
    },
    {
      "cell_type": "markdown",
      "source": [
        "Теперь реализуем 2 важнейшие функции: обучение и тестирование модели. Здесь использовался стандартный алгоритм обучения: обнуление градиентов, подсчёт результата работы нейронной сети на входных данных, подсчёт функции потерь и проведение шага оптимизатора:"
      ],
      "metadata": {
        "id": "TzLfm2fmcB-W"
      }
    },
    {
      "cell_type": "code",
      "source": [
        "#функция-обучения нейронной сети\n",
        "def train_loop(data, model, func_loss, optimizer, f = sys.stdout):\n",
        "    size = len(data.dataset)\n",
        "\n",
        "    model.train()\n",
        "    running_loss = 0.0\n",
        "    for batch, (inputs, labels) in enumerate(data, 0):\n",
        "        optimizer.zero_grad()\n",
        "        outputs = model(inputs)\n",
        "        loss = func_loss(outputs, labels)\n",
        "        loss.backward()\n",
        "        optimizer.step()\n",
        "\n",
        "        running_loss += loss.item()\n",
        "\n",
        "        if (batch + 1) % 2500 == 0:\n",
        "            print(f\"loss: {running_loss / 2000:>7f}  [{(batch + 1) * batch_size:>5d}/{size:>5d}]\", file = f)\n",
        "            running_loss = 0.0\n"
      ],
      "metadata": {
        "id": "vL-12wgibxF8"
      },
      "execution_count": 100,
      "outputs": []
    },
    {
      "cell_type": "markdown",
      "source": [
        "Теперь реализуем функцию проверки точности нейронной сети на тестовых данных:"
      ],
      "metadata": {
        "id": "Hd-dVknicbnu"
      }
    },
    {
      "cell_type": "code",
      "execution_count": 101,
      "metadata": {
        "id": "hWKPI0H_beS1"
      },
      "outputs": [],
      "source": [
        "#функция-тестирование нейронной сети\n",
        "def test_loop(data, model, func_loss, f):\n",
        "    correct = 0\n",
        "    total = 0\n",
        "    test_loss = 0\n",
        "\n",
        "    model.eval()\n",
        "    with torch.no_grad():\n",
        "        for (inputs, labels) in data:\n",
        "            outputs = model(inputs)\n",
        "            test_loss += func_loss(outputs, labels).item()\n",
        "            _, predicted = torch.max(outputs.data, 1)\n",
        "            total += labels.size(0)\n",
        "            correct += (predicted == labels).sum().item()\n",
        "\n",
        "    print('Accuracy of the network on the 10000 test images: %d %%, loss: %.7f' % (100 * correct / total, test_loss / (total / batch_size)), file = f)\n",
        "    return (100 * correct / total), (test_loss / (total / batch_size))"
      ]
    },
    {
      "cell_type": "markdown",
      "source": [
        "Укажем наши гиперпараметры, которые удобно менять для увеличения точности нейронной сети:"
      ],
      "metadata": {
        "id": "FCScZk0Jcmky"
      }
    },
    {
      "cell_type": "code",
      "source": [
        "#выбор гиперпараметров\n",
        "batch_size = 4\n",
        "learn_rate = 1e-3\n",
        "epoch = 10\n",
        "momentum = 0.9"
      ],
      "metadata": {
        "id": "oQknmw4kb3rd"
      },
      "execution_count": 102,
      "outputs": []
    },
    {
      "cell_type": "markdown",
      "source": [
        "Теперь проведем загрузку датасета с помощью функций библиотеки torchvision. После разобъём наши датасеты по партиям:"
      ],
      "metadata": {
        "id": "chRn7uTwcyVy"
      }
    },
    {
      "cell_type": "code",
      "source": [
        "#Преобразование данных: перевод в тензор из PyTorch и нормализация\n",
        "transform = transforms.Compose([transforms.ToTensor(), transforms.Normalize((0.5, 0.5, 0.5), (0.5, 0.5, 0.5))])\n",
        "#загрузка датасета\n",
        "data_train = datasets.CIFAR10(root = \"./data\", train = True, download = True, transform = transform)\n",
        "data_test = datasets.CIFAR10(root = \"./data\", train = False, download = False, transform = transform)\n",
        "#разбитие данных на партии\n",
        "dataload_train = DataLoader(data_train, batch_size = batch_size, shuffle = True)\n",
        "dataload_test = DataLoader(data_test, batch_size = batch_size, shuffle = True)"
      ],
      "metadata": {
        "id": "N9XLAbz-b6kY",
        "colab": {
          "base_uri": "https://localhost:8080/"
        },
        "outputId": "f2b41729-c545-42c5-d64b-0ba4cf99edaf"
      },
      "execution_count": 103,
      "outputs": [
        {
          "output_type": "stream",
          "name": "stdout",
          "text": [
            "Files already downloaded and verified\n"
          ]
        }
      ]
    },
    {
      "cell_type": "markdown",
      "source": [
        "Настало время написать класс устройства нашей нейронной сети. Здесь мы инициализируем нейронную сеть, состоящую из 5 важных слоёв: 2 свёрточных и 3 линейных слоя:"
      ],
      "metadata": {
        "id": "zL56v-qAdC7-"
      }
    },
    {
      "cell_type": "code",
      "source": [
        "#представление модели нейронной сети\n",
        "class NeuralNetworks(nn.Module):\n",
        "    def __init__(self):\n",
        "        super().__init__()\n",
        "        self.network = nn.Sequential(\n",
        "            nn.Conv2d(3, 6, 5),\n",
        "            nn.ReLU(),\n",
        "            nn.MaxPool2d(2, 2),\n",
        "            nn.Conv2d(6, 16, 5),\n",
        "            nn.ReLU(),\n",
        "            nn.MaxPool2d(2, 2),\n",
        "            nn.Flatten(),\n",
        "            nn.Linear(16 * 5 * 5, 120,),\n",
        "            nn.ReLU(),\n",
        "            nn.Linear(120, 84),\n",
        "            nn.ReLU(),\n",
        "            nn.Linear(84, 10)\n",
        "        )\n",
        "\n",
        "    def forward(self, input):\n",
        "        output = self.network(input)\n",
        "        return output"
      ],
      "metadata": {
        "id": "wU1Ei8gOb97w"
      },
      "execution_count": 104,
      "outputs": []
    },
    {
      "cell_type": "markdown",
      "source": [
        "Здесь приведена реализация алгоритма из статьи \"ADAM: A METHOD FOR STOCHASTIC OPTIMIZATION\". Для удобства, реализация в виде класса, для более удобной инициализации переменных, а также класс наследуется от библиотечного torch.optim.Optimizer, чтобы использовать библиотечную реализацию функции zero_grad():"
      ],
      "metadata": {
        "id": "OAll6qkYdi8W"
      }
    },
    {
      "cell_type": "code",
      "source": [
        "class Adam(optim.Optimizer):\n",
        "    def __init__(self, param, alpha = 1e-3, beta1 = 0.9, beta2 = 0.999, eps = 1e-8):\n",
        "        self.param = list(param)\n",
        "        number_of_param = sum([par.numel() for par in self.param])\n",
        "        self.t = 0\n",
        "        self.m = [0] * number_of_param\n",
        "        self.v = [0] * number_of_param\n",
        "        defaults = dict(lr=alpha, betas=(beta1, beta2), eps=eps)\n",
        "        super().__init__(self.param, defaults)\n",
        "        # self.alpha = alpha\n",
        "        # self.beta1 = beta1\n",
        "        # self.beta2 = beta2\n",
        "        # self.eps = eps\n",
        "\n",
        "    def step(self):\n",
        "        self.t += 1\n",
        "        i = 0\n",
        "        for group in self.param_groups:\n",
        "          alpha, eps = group['lr'], group['eps']\n",
        "          beta1, beta2 = group['betas']\n",
        "          for par in group['params']:\n",
        "            gt = par.grad.data\n",
        "            self.m[i] = beta1 * self.m[i] + (1 - beta1) * gt\n",
        "            self.v[i] = beta2 * self.v[i] + (1 - beta2) * (gt ** 2)\n",
        "            mt = self.m[i] / (1 - beta1 ** self.t)\n",
        "            vt = self.v[i] / (1 - beta2 ** self.t)\n",
        "            par.data = par.data - alpha * mt / (vt ** 0.5 + eps)\n",
        "            i += 1"
      ],
      "metadata": {
        "id": "mWFNtjoocFAT"
      },
      "execution_count": 105,
      "outputs": []
    },
    {
      "cell_type": "markdown",
      "source": [
        "Теперь мы готовы объявить нашу нейронную сеть, а также функции потерь CrossEntropyLoss и наш оптимизатор. Для последующего сравнения оптимизаторов, создадим 2 модели с разными оптимизаторами:"
      ],
      "metadata": {
        "id": "G9Ktwxfagzjx"
      }
    },
    {
      "cell_type": "code",
      "source": [
        "#инициализация модели свёрточной нейронной сети, выбор функции потерь и оптимизитора\n",
        "model_adam = NeuralNetworks()\n",
        "model_sgd = NeuralNetworks()\n",
        "loss_func = nn.CrossEntropyLoss()\n",
        "optimizer_adam = Adam(model_adam.parameters(), alpha = learn_rate)\n",
        "optimizer_sgd = optim.SGD(model_sgd.parameters(), lr = learn_rate, momentum = momentum)"
      ],
      "metadata": {
        "id": "x2GTjku0cKIh"
      },
      "execution_count": 106,
      "outputs": []
    },
    {
      "cell_type": "markdown",
      "source": [
        "Также создадим массивы для хранения данных тестирования для дальнейшей визуализации:"
      ],
      "metadata": {
        "id": "y9tVIYlSAaQR"
      }
    },
    {
      "cell_type": "code",
      "source": [
        "x = range(1, epoch + 1)\n",
        "loss_mas = [[0] * epoch for i in range(2)]\n",
        "accuracy_mas = [[0] * epoch for i in range(2)]"
      ],
      "metadata": {
        "id": "iZMqlXhHAjJV"
      },
      "execution_count": 107,
      "outputs": []
    },
    {
      "cell_type": "markdown",
      "source": [
        "Также удобно было бы выводить данные обучения в разные файлы для разных моделей, поэтому зададим файлы - потоки вывода:"
      ],
      "metadata": {
        "id": "91Q4hwM1YyDQ"
      }
    },
    {
      "cell_type": "code",
      "source": [
        "f_adam = open('output_adam.txt', 'w')\n",
        "f_sgd = open('output_sgd.txt', 'w')"
      ],
      "metadata": {
        "id": "lIO-mBT2Y8M0"
      },
      "execution_count": 108,
      "outputs": []
    },
    {
      "cell_type": "markdown",
      "source": [
        "Далее запускаем цикл обучения, которая вызывает соответственно функции обучения модели и проверки результатов работы на тестовом датасете:"
      ],
      "metadata": {
        "id": "oHr6f9vEhF9n"
      }
    },
    {
      "cell_type": "code",
      "source": [
        "#цикл обучения и проверки результатов обучения нейронной сети\n",
        "for ep in range(epoch):\n",
        "    print(f\"Epoch {ep + 1}\")\n",
        "    print(f\"Epoch {ep + 1}\\n-------------------------------\", file = f_adam)\n",
        "    print(f\"Epoch {ep + 1}\\n-------------------------------\", file = f_sgd)\n",
        "    train_loop(dataload_train, model_adam, loss_func, optimizer_adam, f_adam)\n",
        "    accuracy_mas[0][ep], loss_mas[0][ep] = test_loop(dataload_test, model_adam, loss_func, f_adam)\n",
        "    train_loop(dataload_train, model_sgd, loss_func, optimizer_sgd, f_sgd)\n",
        "    accuracy_mas[1][ep], loss_mas[1][ep] = test_loop(dataload_test, model_sgd, loss_func, f_sgd)"
      ],
      "metadata": {
        "id": "PAcWeaTNcNT5",
        "colab": {
          "base_uri": "https://localhost:8080/"
        },
        "outputId": "fbacc05d-e2d5-4164-eecc-bd684251a6dd"
      },
      "execution_count": 109,
      "outputs": [
        {
          "output_type": "stream",
          "name": "stdout",
          "text": [
            "Epoch 1\n",
            "Epoch 2\n",
            "Epoch 3\n",
            "Epoch 4\n",
            "Epoch 5\n",
            "Epoch 6\n",
            "Epoch 7\n",
            "Epoch 8\n",
            "Epoch 9\n",
            "Epoch 10\n"
          ]
        }
      ]
    },
    {
      "cell_type": "markdown",
      "source": [
        "Теперь мы можем визуализировать на графиках работу модели:"
      ],
      "metadata": {
        "id": "RQpVc-3rBIz8"
      }
    },
    {
      "cell_type": "code",
      "source": [
        "plt.title('Analysis of the neural network operation depending on the selected optimizer')\n",
        "plt.axis('off')\n",
        "plt.tight_layout()\n",
        "plt.subplot(1, 2, 1)\n",
        "plt.plot(x, loss_mas[0], label = \"Adam\")\n",
        "plt.plot(x, loss_mas[1], label = \"SGD\")\n",
        "plt.xlabel('epoch')\n",
        "plt.ylabel('loss')\n",
        "plt.xticks(range(0, epoch + 1))\n",
        "plt.legend()\n",
        "plt.subplot(1, 2, 2)\n",
        "plt.plot(x, accuracy_mas[0], label = \"Adam\")\n",
        "plt.plot(x, accuracy_mas[1], label = \"SGD\")\n",
        "plt.xlabel('epoch')\n",
        "plt.ylabel('accuracy')\n",
        "plt.xticks(range(0, epoch + 1))\n",
        "plt.legend()\n",
        "plt.show()"
      ],
      "metadata": {
        "colab": {
          "base_uri": "https://localhost:8080/",
          "height": 530
        },
        "id": "vtcPjC-dBRAE",
        "outputId": "bde66270-7d78-4006-cfe1-931e62e81f3d"
      },
      "execution_count": 110,
      "outputs": [
        {
          "output_type": "display_data",
          "data": {
            "text/plain": [
              "<Figure size 640x480 with 3 Axes>"
            ],
            "image/png": "[encoded data removed]"
          },
          "metadata": {}
        }
      ]
    },
    {
      "cell_type": "markdown",
      "source": [
        "В конце можем закрыть ненужные файлы. И после обучения моделей, можем сохранить их для дальнейшей работы с ними:"
      ],
      "metadata": {
        "id": "urypI-58hVjZ"
      }
    },
    {
      "cell_type": "code",
      "source": [
        "f_adam.close()\n",
        "f_sgd.close()\n",
        "#сохранение моделей и закрытие файлов\n",
        "torch.save(model_adam, 'model_adam.pth')\n",
        "torch.save(model_sgd, 'model_sgd.pth')"
      ],
      "metadata": {
        "id": "biFG5dn8cREf"
      },
      "execution_count": 111,
      "outputs": []
    }
  ]
}